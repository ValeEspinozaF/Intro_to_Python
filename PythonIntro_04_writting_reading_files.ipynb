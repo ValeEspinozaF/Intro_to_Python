{
 "cells": [
  {
   "cell_type": "markdown",
   "metadata": {},
   "source": [
    "# Introduction to Python\n",
    "\n",
    "This is a Jupyter notebook. This is a smart and easy way to run Python-code interactively in the browser. The term *interactively* means that we at any time can stop the process and see the individual outputs, change variable expressions or plot the intermediate results. This notebook can also be run on ERDA and Google Drive, which means that you do not have to have Python installed on your own computer to run the files, although I recommend having a local installation up and running as your primary place of coding. Python and Jupyter notebooks are available for all platforms (Windows, Mac, Linux), for free. I recommend installing the [Anaconda distribution](https://www.anaconda.com/products/individual) of Python, which comes with a lot of useful packages pre-installed, as well as text editors especially designed for Python (Spider and JupyterLab). \n",
    "\n",
    "This notebook is meant as a very basic introduction to Python, and specifically how load and save data from files. It is not meant as a comprehensive introduction to Python, but rather as a quick guide to get you started.\n",
    "***\n",
    "\n",
    "\n",
    "Valentina Espinoza F. (University of Copenhagen)  \n",
    "10th January 2023 (latest update)"
   ]
  },
  {
   "cell_type": "markdown",
   "metadata": {},
   "source": [
    "## Write data\n",
    "\n",
    "We start with writing a file randomnumbers.dat containing some random numbers. First we create and open `randomnumbers.dat` in write mode. Note that the file is only open in the block opened by the `with ... as file` statement, i.e. the file is closed automatically when the block is exited. While its open, we will run a for loop to generate 10 rows of random numbers according to different probability density functions (uniform, gaussian, etc). \n",
    "\n",
    "We use the method `file.write()` to add lines to our file. The method `file.write()` takes a string as argument, so we have to convert the numbers to strings before we can write them to the file.\n",
    "To do so, we use the `format()` function (shortened here as `f\"\"`), a very powerful function for formatting strings, and is used extensively in Python. The `format()` function is called on a string, and the string contains placeholders for the variables that we want to insert into the string. The placeholders are marked with curly brackets `{}`. The `format()` function can also be used to format numbers, e.g. to control the number of decimals. In the example below, we use the placeholder `{:.4f}` to indicate that we want to insert a *floating* point number with 4 decimals. You can try replacing the `f` with an `e` to see what happens."
   ]
  },
  {
   "cell_type": "code",
   "execution_count": 54,
   "metadata": {},
   "outputs": [
    {
     "name": "stdout",
     "output_type": "stream",
     "text": [
      "Uniform\tGaussian\tPoisson\tExponential\tPowe\n",
      "0.0452\t-0.0736\t6\t0.4795\t0.969\n",
      "0.8421\t-0.2822\t14\t0.5358\t0.273\n",
      "0.0564\t0.2594\t10\t2.8962\t0.849\n",
      "0.2473\t0.3023\t9\t3.0802\t0.606\n",
      "0.2286\t1.0604\t9\t1.1134\t0.520\n",
      "0.7723\t1.5414\t10\t0.8028\t0.560\n",
      "0.8767\t-1.0204\t11\t0.2395\t0.136\n",
      "0.0145\t-0.2691\t8\t0.4980\t0.437\n",
      "0.9042\t0.2001\t13\t0.9731\t0.862\n",
      "0.9495\t-2.1709\t10\t0.6146\t0.980\n"
     ]
    }
   ],
   "source": [
    "# Get the r object from the numpy random module\n",
    "import numpy as np\n",
    "r = np.random\n",
    "\n",
    "with open('randomnumbers.dat', 'w' ) as file: \n",
    "    \n",
    "    header_line = f\"Uniform\\tGaussian\\tPoisson\\tExponential\\tPower\\n\"    \n",
    "    print(header_line[:-2]) # do not print the '\\n'\n",
    "    file.write(header_line)\n",
    "    \n",
    "    for i in range(10): \n",
    "\n",
    "        # Numbers distributed according to the following density functions: uniform, gaussian, poissonian, exponential, power\n",
    "        new_line = f\"{r.uniform():.4f}\\t{r.normal():.4f}\\t{r.poisson(10.0):.0f}\\t{r.exponential():.4f}\\t{r.power(1):.4f}\\n\"\n",
    "        print(new_line[:-2]) # do not print the '\\n'\n",
    "        file.write(new_line)"
   ]
  },
  {
   "cell_type": "markdown",
   "metadata": {},
   "source": [
    "If we have an array of data, we can use Numpy's `savetxt()` function to write the data to a file. The `savetxt()` function takes two arguments: the name of the file to write to, and the array of data. The `savetxt()` function can also take a third argument, which is the format string, e.g. `fmt=\"%.4f\"` to write floating point numbers with 4 decimals. "
   ]
  },
  {
   "cell_type": "code",
   "execution_count": 55,
   "metadata": {},
   "outputs": [],
   "source": [
    "num_rows = 10\n",
    "my_random_array = np.empty((num_rows, 5))\n",
    "header_line = \"Uniform\\tGaussian\\tPoisson\\tExponential\\tPower\"\n",
    "\n",
    "# Generate random numbers for each column and row\n",
    "my_random_array[:, 0] = r.uniform(size=num_rows)\n",
    "my_random_array[:, 1] = r.normal(size=num_rows)\n",
    "my_random_array[:, 2] = r.poisson(lam=10, size=num_rows)\n",
    "my_random_array[:, 3] = r.exponential(size=num_rows)\n",
    "my_random_array[:, 4] = r.power(a=1, size=num_rows)\n",
    "\n",
    "np.savetxt('randomnumbers.dat', my_random_array, fmt='%.4f', delimiter='\\t', header=header_line, comments=\"\")  # values will no be the same as above, because randomness "
   ]
  },
  {
   "cell_type": "markdown",
   "metadata": {},
   "source": [
    "Similarly, if you have a pandas DataFrame, you can use the `to_csv()` method to write the data to a file."
   ]
  },
  {
   "cell_type": "code",
   "execution_count": 65,
   "metadata": {},
   "outputs": [],
   "source": [
    "# If you were to have the data as a pandas DataFrame\n",
    "import pandas as pd\n",
    "\n",
    "my_random_df = pd.DataFrame(my_random_array, columns=['Uniform', 'Gaussian', 'Poisson', 'Exponential', 'Power'])\n",
    "\n",
    "with open('randomnumbers.dat', 'w' ) as file: \n",
    "    my_random_df.to_csv(file, sep='\\t', index=False, lineterminator='\\n', float_format='%.4f')"
   ]
  },
  {
   "cell_type": "markdown",
   "metadata": {},
   "source": [
    "All of the methods above will only work for regularly-structured data, i.e. data that can be represented as a table with rows and columns. If you have more complex data, e.g. a DataFrame of DataFrames, you can save you data as a pickle file using the `pickle.dump()` function. Pickle files are binary files, and can only be read by Python."
   ]
  },
  {
   "cell_type": "code",
   "execution_count": 70,
   "metadata": {},
   "outputs": [],
   "source": [
    "import pickle\n",
    "\n",
    "student1_dict = {'name': 'John', 'age': 23, 'city': 'Lake City'}\n",
    "student2_dict = {'name': 'Anna', 'age': 21, 'city': 'Ontario'}\n",
    "students = [student1_dict, student2_dict]\n",
    "\n",
    "# Save the dictionary using pickle\n",
    "with open('students_2024.obj', 'wb') as file:\n",
    "    pickle.dump(students, file)"
   ]
  },
  {
   "cell_type": "markdown",
   "metadata": {},
   "source": [
    "## Read data\n",
    "\n",
    "Often you will have to read and write text files (.csv, .txt, etc). To provide and example we will read the same file we created above, `randomnumbers.dat`."
   ]
  },
  {
   "cell_type": "code",
   "execution_count": 56,
   "metadata": {},
   "outputs": [
    {
     "name": "stdout",
     "output_type": "stream",
     "text": [
      "Uniformly distributed random numbers:  [0.4926, 0.3288, 0.6334, 0.2401, 0.0759, 0.1289, 0.128, 0.1519, 0.1388, 0.6409]\n"
     ]
    }
   ],
   "source": [
    "# Declaring lists that will contain the columns of random numbers\n",
    "uni = []\n",
    "gauss = []\n",
    "pois = []\n",
    "exp = []\n",
    "power = []\n",
    "\n",
    "# Read the file\n",
    "with open('randomnumbers.dat', 'r' ) as file: \n",
    "    \n",
    "    # Skip the first line (header) with the `next()` command\n",
    "    next(file)  \n",
    "    \n",
    "    # Loop through each line in the file\n",
    "    for line in file: \n",
    "\n",
    "        # Strip it of '\\n and \\t' (i.e. newlines and tabulations) using `strip()`\n",
    "        strip_line = line.strip()\n",
    "        \n",
    "        # Split the line into a list using `split()`\n",
    "        format_line = strip_line.split()\n",
    "\n",
    "        # Append the elements to the corresponding list\n",
    "        uni.append( float(format_line[0]) )        # \"uni\" gets the first element in the list\n",
    "        gauss.append( float(format_line[1]) )      # \"gauss\" gets the second element ...\n",
    "        pois.append( float(format_line[2]) )\n",
    "        exp.append( float(format_line[3]) )\n",
    "        power.append( float(format_line[4]) )\n",
    "                \n",
    "        \n",
    "        \n",
    "print(\"Uniformly distributed random numbers: \", uni)"
   ]
  },
  {
   "cell_type": "markdown",
   "metadata": {},
   "source": [
    "All of the above can be more easily done using Numpy, and its function `np.loadtxt()`:"
   ]
  },
  {
   "cell_type": "code",
   "execution_count": 57,
   "metadata": {},
   "outputs": [
    {
     "name": "stdout",
     "output_type": "stream",
     "text": [
      "Uniformly distributed random numbers:  [0.4926 0.3288 0.6334 0.2401 0.0759 0.1289 0.128  0.1519 0.1388 0.6409]\n"
     ]
    }
   ],
   "source": [
    "uni_np, gauss_np, pois_np, exp_np, power_np = np.loadtxt('randomnumbers.dat', unpack=True, skiprows=1)\n",
    "print(\"Uniformly distributed random numbers: \", uni_np)"
   ]
  },
  {
   "cell_type": "markdown",
   "metadata": {},
   "source": [
    "We could also use pandas `pd.read_csv()` function to read the file. This function is very powerful, and can preserve the column names to create a `pd.DataFrame` object:"
   ]
  },
  {
   "cell_type": "code",
   "execution_count": 66,
   "metadata": {},
   "outputs": [
    {
     "data": {
      "text/html": [
       "<div>\n",
       "<style scoped>\n",
       "    .dataframe tbody tr th:only-of-type {\n",
       "        vertical-align: middle;\n",
       "    }\n",
       "\n",
       "    .dataframe tbody tr th {\n",
       "        vertical-align: top;\n",
       "    }\n",
       "\n",
       "    .dataframe thead th {\n",
       "        text-align: right;\n",
       "    }\n",
       "</style>\n",
       "<table border=\"1\" class=\"dataframe\">\n",
       "  <thead>\n",
       "    <tr style=\"text-align: right;\">\n",
       "      <th></th>\n",
       "      <th>Uniform</th>\n",
       "      <th>Gaussian</th>\n",
       "      <th>Poisson</th>\n",
       "      <th>Exponential</th>\n",
       "      <th>Power</th>\n",
       "    </tr>\n",
       "  </thead>\n",
       "  <tbody>\n",
       "    <tr>\n",
       "      <th>0</th>\n",
       "      <td>0.4926</td>\n",
       "      <td>-0.5139</td>\n",
       "      <td>7.0</td>\n",
       "      <td>0.7606</td>\n",
       "      <td>0.5936</td>\n",
       "    </tr>\n",
       "    <tr>\n",
       "      <th>1</th>\n",
       "      <td>0.3288</td>\n",
       "      <td>-1.0592</td>\n",
       "      <td>10.0</td>\n",
       "      <td>0.2777</td>\n",
       "      <td>0.6791</td>\n",
       "    </tr>\n",
       "    <tr>\n",
       "      <th>2</th>\n",
       "      <td>0.6334</td>\n",
       "      <td>-0.0627</td>\n",
       "      <td>11.0</td>\n",
       "      <td>0.3137</td>\n",
       "      <td>0.7892</td>\n",
       "    </tr>\n",
       "    <tr>\n",
       "      <th>3</th>\n",
       "      <td>0.2401</td>\n",
       "      <td>0.9551</td>\n",
       "      <td>4.0</td>\n",
       "      <td>0.4737</td>\n",
       "      <td>0.4984</td>\n",
       "    </tr>\n",
       "    <tr>\n",
       "      <th>4</th>\n",
       "      <td>0.0759</td>\n",
       "      <td>-0.9857</td>\n",
       "      <td>7.0</td>\n",
       "      <td>0.0203</td>\n",
       "      <td>0.0869</td>\n",
       "    </tr>\n",
       "    <tr>\n",
       "      <th>5</th>\n",
       "      <td>0.1289</td>\n",
       "      <td>0.5040</td>\n",
       "      <td>9.0</td>\n",
       "      <td>0.3887</td>\n",
       "      <td>0.5371</td>\n",
       "    </tr>\n",
       "    <tr>\n",
       "      <th>6</th>\n",
       "      <td>0.1280</td>\n",
       "      <td>-0.5303</td>\n",
       "      <td>11.0</td>\n",
       "      <td>0.2376</td>\n",
       "      <td>0.5868</td>\n",
       "    </tr>\n",
       "    <tr>\n",
       "      <th>7</th>\n",
       "      <td>0.1519</td>\n",
       "      <td>-0.7929</td>\n",
       "      <td>10.0</td>\n",
       "      <td>0.3967</td>\n",
       "      <td>0.7454</td>\n",
       "    </tr>\n",
       "    <tr>\n",
       "      <th>8</th>\n",
       "      <td>0.1388</td>\n",
       "      <td>-0.1070</td>\n",
       "      <td>10.0</td>\n",
       "      <td>0.1276</td>\n",
       "      <td>0.4317</td>\n",
       "    </tr>\n",
       "    <tr>\n",
       "      <th>9</th>\n",
       "      <td>0.6409</td>\n",
       "      <td>-1.0352</td>\n",
       "      <td>5.0</td>\n",
       "      <td>2.2121</td>\n",
       "      <td>0.1276</td>\n",
       "    </tr>\n",
       "  </tbody>\n",
       "</table>\n",
       "</div>"
      ],
      "text/plain": [
       "   Uniform  Gaussian  Poisson  Exponential   Power\n",
       "0   0.4926   -0.5139      7.0       0.7606  0.5936\n",
       "1   0.3288   -1.0592     10.0       0.2777  0.6791\n",
       "2   0.6334   -0.0627     11.0       0.3137  0.7892\n",
       "3   0.2401    0.9551      4.0       0.4737  0.4984\n",
       "4   0.0759   -0.9857      7.0       0.0203  0.0869\n",
       "5   0.1289    0.5040      9.0       0.3887  0.5371\n",
       "6   0.1280   -0.5303     11.0       0.2376  0.5868\n",
       "7   0.1519   -0.7929     10.0       0.3967  0.7454\n",
       "8   0.1388   -0.1070     10.0       0.1276  0.4317\n",
       "9   0.6409   -1.0352      5.0       2.2121  0.1276"
      ]
     },
     "execution_count": 66,
     "metadata": {},
     "output_type": "execute_result"
    }
   ],
   "source": [
    "import pandas as pd\n",
    "\n",
    "rand_nums_df = pd.read_csv('randomnumbers.dat', sep='\\t')\n",
    "rand_nums_df"
   ]
  },
  {
   "cell_type": "code",
   "execution_count": 59,
   "metadata": {},
   "outputs": [
    {
     "name": "stdout",
     "output_type": "stream",
     "text": [
      "Uniformly distributed random numbers:  [0.4926 0.3288 0.6334 0.2401 0.0759 0.1289 0.128  0.1519 0.1388 0.6409]\n"
     ]
    }
   ],
   "source": [
    "uni_pd = rand_nums_df['Uniform']\n",
    "print(\"Uniformly distributed random numbers: \", uni_pd.values)"
   ]
  },
  {
   "cell_type": "markdown",
   "metadata": {},
   "source": [
    "For the case of reading back `pickle` files, we can use the `pickle.load()` function."
   ]
  },
  {
   "cell_type": "code",
   "execution_count": 71,
   "metadata": {},
   "outputs": [
    {
     "name": "stdout",
     "output_type": "stream",
     "text": [
      "<class 'list'>\n"
     ]
    },
    {
     "data": {
      "text/plain": [
       "[{'name': 'John', 'age': 23, 'city': 'Lake City'},\n",
       " {'name': 'Anna', 'age': 21, 'city': 'Ontario'}]"
      ]
     },
     "execution_count": 71,
     "metadata": {},
     "output_type": "execute_result"
    }
   ],
   "source": [
    "with open('students_2024.obj', 'rb') as datafile:\n",
    "    pickle_data = pickle.load(datafile)\n",
    "    \n",
    "print(type(pickle_data))\n",
    "pickle_data"
   ]
  }
 ],
 "metadata": {
  "kernelspec": {
   "display_name": "py38",
   "language": "python",
   "name": "python3"
  },
  "language_info": {
   "codemirror_mode": {
    "name": "ipython",
    "version": 3
   },
   "file_extension": ".py",
   "mimetype": "text/x-python",
   "name": "python",
   "nbconvert_exporter": "python",
   "pygments_lexer": "ipython3",
   "version": "3.8.16"
  }
 },
 "nbformat": 4,
 "nbformat_minor": 2
}

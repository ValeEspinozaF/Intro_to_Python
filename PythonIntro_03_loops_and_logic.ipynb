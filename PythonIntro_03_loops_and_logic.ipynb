{
 "cells": [
  {
   "cell_type": "markdown",
   "metadata": {},
   "source": [
    "# Introduction to Python\n",
    "\n",
    "This is a Jupyter notebook. This is a smart and easy way to run Python-code interactively in the browser. The term *interactively* means that we at any time can stop the process and see the individual outputs, change variable expressions or plot the intermediate results. This notebook can also be run on ERDA and Google Drive, which means that you do not have to have Python installed on your own computer to run the files, although I recommend having a local installation up and running as your primary place of coding. Python and Jupyter notebooks are available for all platforms (Windows, Mac, Linux), for free. I recommend installing the [Anaconda distribution](https://www.anaconda.com/products/individual) of Python, which comes with a lot of useful packages pre-installed, as well as text editors especially designed for Python (Spider and JupyterLab). \n",
    "\n",
    "This notebook is meant as a very basic introduction to Python, and specifically control flow tools, such as loops and conditionals. It is not meant as a comprehensive introduction to Python, but rather as a quick guide to get you started.\n",
    "***\n",
    "\n",
    "\n",
    "Valentina Espinoza F. (University of Copenhagen)  \n",
    "10th January 2023 (latest update)"
   ]
  },
  {
   "cell_type": "markdown",
   "metadata": {},
   "source": [
    "## Looping\n",
    "\n",
    "A lot of times you want to repeat a calculation with some different initial parameters, which is where a *loop* comes in handy. This will tell the interpreter that it should make a list with the numbers 0, ..., 9.  For each of these numbers, it will assign `i` to the given value and perform whatever is inside the *loop block* with that specific value of `i`.  "
   ]
  },
  {
   "cell_type": "code",
   "execution_count": 2,
   "metadata": {},
   "outputs": [
    {
     "name": "stdout",
     "output_type": "stream",
     "text": [
      "Counting to ten:  0\n",
      "Counting to ten:  1\n",
      "Counting to ten:  2\n",
      "Counting to ten:  3\n",
      "Counting to ten:  4\n",
      "Counting to ten:  5\n",
      "Counting to ten:  6\n",
      "Counting to ten:  7\n",
      "Counting to ten:  8\n",
      "Counting to ten:  9\n"
     ]
    }
   ],
   "source": [
    "# This is a simple loop\n",
    "for i in range(10) : \n",
    "    # This is the block within the loop\n",
    "    print(\"Counting to ten: \", i)"
   ]
  },
  {
   "cell_type": "markdown",
   "metadata": {},
   "source": [
    "`range` is a convenient Python functions that return a sequence of numbers, that by default starts from 0, increments by 1, and stops before a specified number. The syntax is similar to numpy's arange functions: `range(start, stop, step)`. You can use the range to gain further control on the loop:"
   ]
  },
  {
   "cell_type": "code",
   "execution_count": 4,
   "metadata": {},
   "outputs": [
    {
     "name": "stdout",
     "output_type": "stream",
     "text": [
      "Counting every second number from four to ten: 4\n",
      "Counting every second number from four to ten: 6\n",
      "Counting every second number from four to ten: 8\n",
      "Counting backwards from ten to four: 10\n",
      "Counting backwards from ten to four: 8\n",
      "Counting backwards from ten to four: 6\n"
     ]
    }
   ],
   "source": [
    "for i in range(4, 10, 2):\n",
    "    print(f\"Counting every second number from four to ten: {i}\")\n",
    "    \n",
    "for i in range(10, 4, -2):\n",
    "    print(f\"Counting backwards from ten to four: {i}\")"
   ]
  },
  {
   "cell_type": "markdown",
   "metadata": {},
   "source": [
    "You can loop over any iterable object, such as a list or a string:"
   ]
  },
  {
   "cell_type": "code",
   "execution_count": 6,
   "metadata": {},
   "outputs": [
    {
     "name": "stdout",
     "output_type": "stream",
     "text": [
      "H\n",
      "e\n",
      "l\n",
      "l\n",
      "o\n",
      "I have a cat.\n",
      "I have a dog.\n",
      "I have a fish.\n",
      "I have a bird.\n"
     ]
    }
   ],
   "source": [
    "for character in \"Hello\":\n",
    "    print(character)\n",
    "    \n",
    "my_pets = [\"cat\", \"dog\", \"fish\", \"bird\"]    \n",
    "for pet in my_pets:\n",
    "    print(f\"I have a {pet}.\")"
   ]
  },
  {
   "cell_type": "markdown",
   "metadata": {},
   "source": [
    "In case we need both the index and the value of a list, we can use `enumerate`:"
   ]
  },
  {
   "cell_type": "code",
   "execution_count": 7,
   "metadata": {},
   "outputs": [
    {
     "name": "stdout",
     "output_type": "stream",
     "text": [
      "1 - January\n",
      "2 - February\n",
      "3 - March\n",
      "4 - April\n",
      "5 - May\n",
      "6 - June\n",
      "7 - July\n",
      "8 - August\n",
      "9 - September\n",
      "10 - October\n",
      "11 - November\n",
      "12 - December\n"
     ]
    }
   ],
   "source": [
    "my_months = [\"January\", \"February\", \"March\", \"April\", \"May\", \"June\", \"July\", \"August\", \"September\", \"October\", \"November\",\"December\"]\n",
    "for i, month in enumerate(my_months):\n",
    "    print(f\"{i+1} - {month}\")"
   ]
  },
  {
   "cell_type": "markdown",
   "metadata": {},
   "source": [
    "## Logical statements\n",
    "\n",
    "To compare values, you can use the if statement:"
   ]
  },
  {
   "cell_type": "code",
   "execution_count": 12,
   "metadata": {},
   "outputs": [
    {
     "name": "stdout",
     "output_type": "stream",
     "text": [
      "The integer value is three.\n"
     ]
    }
   ],
   "source": [
    "anint = 3\n",
    "\n",
    "if anint == 3: \n",
    "    print(\"The integer value is three.\")"
   ]
  },
  {
   "cell_type": "markdown",
   "metadata": {},
   "source": [
    "Notice that when making boolean comparisons you use double equal signs, `==` and not single (which is used for assigment). In addition to `if` there is also `elif` (else if) and `else`:"
   ]
  },
  {
   "cell_type": "code",
   "execution_count": 14,
   "metadata": {},
   "outputs": [
    {
     "name": "stdout",
     "output_type": "stream",
     "text": [
      "The float value is somewhere between 100 and 500.\n"
     ]
    }
   ],
   "source": [
    "afloat = 314.0\n",
    "\n",
    "if afloat > 1000.0: \n",
    "    print(\"The float value is greater than 1000\")\n",
    "elif 100.0 < afloat < 500.0: \n",
    "    print(\"The float value is somewhere between 100 and 500.\")\n",
    "else: \n",
    "    print(\"The float is neither > 1000 nor in the range [100,500]\")"
   ]
  },
  {
   "cell_type": "markdown",
   "metadata": {},
   "source": [
    "The negation comparison is `!=`:"
   ]
  },
  {
   "cell_type": "code",
   "execution_count": 17,
   "metadata": {},
   "outputs": [
    {
     "name": "stdout",
     "output_type": "stream",
     "text": [
      "'astring' says string.\n",
      "'astring' does not say 'blah'.\n"
     ]
    }
   ],
   "source": [
    "astring = \"string\"\n",
    "\n",
    "if astring == \"string\": \n",
    "    print(\"'astring' says string.\")\n",
    "\n",
    "if astring != \"blah\": \n",
    "    print(\"'astring' does not say 'blah'.\")    "
   ]
  },
  {
   "cell_type": "markdown",
   "metadata": {},
   "source": [
    "Negation can also be achieved with the `not` statement. This is useful to e.g. check if an element is in a list:"
   ]
  },
  {
   "cell_type": "code",
   "execution_count": 22,
   "metadata": {},
   "outputs": [
    {
     "name": "stdout",
     "output_type": "stream",
     "text": [
      "Sure! Here is your apple. Have a nice day!\n"
     ]
    }
   ],
   "source": [
    "available_fruits = ['apple', 'banana', 'orange', 'grape']\n",
    "my_fav_fruit = 'apple'\n",
    "\n",
    "# Using 'not' statement to check if the string is not in the list\n",
    "if my_fav_fruit not in available_fruits:\n",
    "    print(f\"Sorry, there is no available {my_fav_fruit} in our store.\")\n",
    "else:\n",
    "    print(f\"Sure! Here is your {my_fav_fruit}. Have a nice day!\")"
   ]
  },
  {
   "cell_type": "markdown",
   "metadata": {},
   "source": [
    "You can also combine multiple conditions using `and` and `or`:"
   ]
  },
  {
   "cell_type": "code",
   "execution_count": 21,
   "metadata": {},
   "outputs": [
    {
     "name": "stdout",
     "output_type": "stream",
     "text": [
      "It's a sunny and warm day.\n",
      "It's either sunny or warm or both.\n"
     ]
    }
   ],
   "source": [
    "is_sunny = True    # Play around with these variable, and check the output to understand the difference\n",
    "is_warm = True\n",
    "\n",
    "# Using 'and' statement\n",
    "if is_sunny and is_warm:\n",
    "    print(\"It's a sunny and warm day.\")\n",
    "else:\n",
    "    print(\"The weather is not both sunny and warm.\")\n",
    "\n",
    "# Using 'or' statement\n",
    "if is_sunny or is_warm:\n",
    "    print(\"It's either sunny or warm or both.\")\n",
    "else:\n",
    "    print(\"The weather is neither sunny nor warm.\")"
   ]
  },
  {
   "cell_type": "markdown",
   "metadata": {},
   "source": [
    "## Bonus: List comprehensions\n",
    "\n",
    "One very nice thing with Python is that you can combine `lists`, `for` loops and `if` statements in an intuitive way. If you e.g. want a list containing the square of the first 10 numbers, you can use what is called a list comprehension: "
   ]
  },
  {
   "cell_type": "code",
   "execution_count": 9,
   "metadata": {},
   "outputs": [
    {
     "name": "stdout",
     "output_type": "stream",
     "text": [
      "List of squares:  [0, 1, 4, 9, 16, 25, 36, 49, 64, 81]\n",
      "List of even squares:  [0, 4, 16, 36, 64]\n"
     ]
    }
   ],
   "source": [
    "sqrnumbers = [i*i for i in range(10)]\n",
    "print(\"List of squares: \", sqrnumbers)\n",
    "\n",
    "# If you only the square of even numbers\n",
    "evensqrnumbers = [i*i for i in range(10) if i%2 == 0]   # The modulus operator (%) returns the remainder of the division. If the remainder is zero, i is divisible by the 2, and hence even.\n",
    "print(\"List of even squares: \", evensqrnumbers)"
   ]
  }
 ],
 "metadata": {
  "kernelspec": {
   "display_name": "py38",
   "language": "python",
   "name": "python3"
  },
  "language_info": {
   "codemirror_mode": {
    "name": "ipython",
    "version": 3
   },
   "file_extension": ".py",
   "mimetype": "text/x-python",
   "name": "python",
   "nbconvert_exporter": "python",
   "pygments_lexer": "ipython3",
   "version": "3.8.16"
  }
 },
 "nbformat": 4,
 "nbformat_minor": 2
}

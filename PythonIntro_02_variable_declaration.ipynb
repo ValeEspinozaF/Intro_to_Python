{
 "cells": [
  {
   "cell_type": "markdown",
   "metadata": {},
   "source": [
    "# Introduction to Python\n",
    "\n",
    "This is a Jupyter notebook. This is a smart and easy way to run Python-code interactively in the browser. The term *interactively* means that we at any time can stop the process and see the individual outputs, change variable expressions or plot the intermediate results. This notebook can also be run on ERDA and Google Drive, which means that you do not have to have Python installed on your own computer to run the files, although I recommend having a local installation up and running as your primary place of coding. Python and Jupyter notebooks are available for all platforms (Windows, Mac, Linux), for free. I recommend installing the [Anaconda distribution](https://www.anaconda.com/products/individual) of Python, which comes with a lot of useful packages pre-installed, as well as text editors especially designed for Python (Spider and JupyterLab). \n",
    "\n",
    "This notebook is meant as a very basic introduction to Python, and specifically and introduction to the basis types of object, how to declare them, and the different methods than can be applied. It is not meant as a comprehensive introduction to Python, but rather as a quick guide to get you started.\n",
    "***\n",
    "\n",
    "\n",
    "Valentina Espinoza F. (University of Copenhagen)  \n",
    "10th January 2023 (latest update)"
   ]
  },
  {
   "cell_type": "markdown",
   "metadata": {},
   "source": [
    "## Variable declaration\n",
    "\n",
    "Python is and *object-oriented* programming language, which means that everything you create, every variable you declare, is an object. Objects have attributes and methods. Attributes are properties of the object, and methods are functions that can be applied to the object. For example, a *list* is an object, and it has attributes such as the length of the list, and methods such as sorting the list.\n",
    "\n",
    "Python is also a *dynamically typed* programming language, which means that you do not have to declare the type of a variable when you create it. The type of the variable is inferred from the value you assign to it. This is different from *statically typed* languages such as C, C++ and Java, where you have to declare the type of the variable when you create it. "
   ]
  },
  {
   "cell_type": "markdown",
   "metadata": {},
   "source": [
    "### Numbers (integers and floats)\n",
    "\n",
    "Below we show how to declare integers and floats:"
   ]
  },
  {
   "cell_type": "code",
   "execution_count": 2,
   "metadata": {},
   "outputs": [],
   "source": [
    "# Declare an integer\n",
    "my_int = 1\n",
    "\n",
    "# Declare a float\n",
    "my_float = 1.0"
   ]
  },
  {
   "cell_type": "markdown",
   "metadata": {},
   "source": [
    "Notice the how the decimal point allows Python to know which type of variable it is. Floats are numbers with decimals, integer don't. Having them as two different objects is usefull both memory-wise (integers use less memory), and coding wise (Some operations must only be done with integers, supplying a float will raise an error). \n",
    "\n",
    "If you want to know the type of a variable, you can check the *variables panel* in your editor, or use the function `type()`:"
   ]
  },
  {
   "cell_type": "code",
   "execution_count": 3,
   "metadata": {},
   "outputs": [
    {
     "data": {
      "text/plain": [
       "int"
      ]
     },
     "execution_count": 3,
     "metadata": {},
     "output_type": "execute_result"
    }
   ],
   "source": [
    "type(my_int)"
   ]
  },
  {
   "cell_type": "markdown",
   "metadata": {},
   "source": [
    "### Text (strings)\n",
    "\n",
    "Text, a combination or one or more characters is called a *string*. These are declared using either single or double quotes. The quotes are not part of the string, they are only used to tell Python that the text in between is a string."
   ]
  },
  {
   "cell_type": "code",
   "execution_count": 2,
   "metadata": {},
   "outputs": [
    {
     "data": {
      "text/plain": [
       "str"
      ]
     },
     "execution_count": 2,
     "metadata": {},
     "output_type": "execute_result"
    }
   ],
   "source": [
    "# Declare a string\n",
    "my_string = \"Hello World!\"\n",
    "type(my_string)"
   ]
  },
  {
   "cell_type": "markdown",
   "metadata": {},
   "source": [
    "String are useful objects, and have many methods specific to them. You can try the `split` method to split the string wherever a given character appears, or the `replace` methods to replace one character with another.  "
   ]
  },
  {
   "cell_type": "code",
   "execution_count": 7,
   "metadata": {},
   "outputs": [
    {
     "data": {
      "text/plain": [
       "['Hello', 'World!']"
      ]
     },
     "execution_count": 7,
     "metadata": {},
     "output_type": "execute_result"
    }
   ],
   "source": [
    "# Split string\n",
    "my_string.split(\" \")    # We split wherever a space appears"
   ]
  },
  {
   "cell_type": "code",
   "execution_count": 13,
   "metadata": {},
   "outputs": [
    {
     "data": {
      "text/plain": [
       "'Hello World?'"
      ]
     },
     "execution_count": 13,
     "metadata": {},
     "output_type": "execute_result"
    }
   ],
   "source": [
    "# Replace character in string\n",
    "my_string.replace(\"!\", \"?\")    # We replace every exclamation sign with a question mark"
   ]
  },
  {
   "cell_type": "markdown",
   "metadata": {},
   "source": [
    "If you are unsure on the syntax of a particular function or method, you can always use the `help` command, or the more colorful `?` command:"
   ]
  },
  {
   "cell_type": "code",
   "execution_count": 9,
   "metadata": {},
   "outputs": [
    {
     "name": "stdout",
     "output_type": "stream",
     "text": [
      "Help on built-in function replace:\n",
      "\n",
      "replace(old, new, count=-1, /) method of builtins.str instance\n",
      "    Return a copy with all occurrences of substring old replaced by new.\n",
      "    \n",
      "      count\n",
      "        Maximum number of occurrences to replace.\n",
      "        -1 (the default value) means replace all occurrences.\n",
      "    \n",
      "    If the optional argument count is given, only the first count occurrences are\n",
      "    replaced.\n",
      "\n"
     ]
    }
   ],
   "source": [
    "help(my_string.replace)"
   ]
  },
  {
   "cell_type": "code",
   "execution_count": 3,
   "metadata": {},
   "outputs": [
    {
     "name": "stdout",
     "output_type": "stream",
     "text": [
      "\u001b[1;31mSignature:\u001b[0m \u001b[0mmy_string\u001b[0m\u001b[1;33m.\u001b[0m\u001b[0mreplace\u001b[0m\u001b[1;33m(\u001b[0m\u001b[0mold\u001b[0m\u001b[1;33m,\u001b[0m \u001b[0mnew\u001b[0m\u001b[1;33m,\u001b[0m \u001b[0mcount\u001b[0m\u001b[1;33m=\u001b[0m\u001b[1;33m-\u001b[0m\u001b[1;36m1\u001b[0m\u001b[1;33m,\u001b[0m \u001b[1;33m/\u001b[0m\u001b[1;33m)\u001b[0m\u001b[1;33m\u001b[0m\u001b[1;33m\u001b[0m\u001b[0m\n",
      "\u001b[1;31mDocstring:\u001b[0m\n",
      "Return a copy with all occurrences of substring old replaced by new.\n",
      "\n",
      "  count\n",
      "    Maximum number of occurrences to replace.\n",
      "    -1 (the default value) means replace all occurrences.\n",
      "\n",
      "If the optional argument count is given, only the first count occurrences are\n",
      "replaced.\n",
      "\u001b[1;31mType:\u001b[0m      builtin_function_or_method"
     ]
    }
   ],
   "source": [
    "?my_string.replace"
   ]
  },
  {
   "cell_type": "markdown",
   "metadata": {},
   "source": [
    "### Booleans (True and False)\n",
    "\n",
    "Booleans are variables that can only take two values: `True` or `False`. They are useful for logical operations, such as checking if a condition is met, or if two variables are equal."
   ]
  },
  {
   "cell_type": "code",
   "execution_count": 5,
   "metadata": {},
   "outputs": [
    {
     "data": {
      "text/plain": [
       "True"
      ]
     },
     "execution_count": 5,
     "metadata": {},
     "output_type": "execute_result"
    }
   ],
   "source": [
    "# Input your age here\n",
    "user_age = 20\n",
    "\n",
    "is_adult = user_age >= 18   # This \"condition statement\" will return a boolean value (True or False)\n",
    "is_adult"
   ]
  },
  {
   "cell_type": "markdown",
   "metadata": {},
   "source": [
    "You can find more examples of logical operations in the Jupyter notebook on *control flow* (`PythonIntro_loops_and_logic.ipynb`). "
   ]
  },
  {
   "cell_type": "markdown",
   "metadata": {},
   "source": [
    "### Lists (lists, tuples and arrays)\n",
    "\n",
    "Often you want to store a large number of variables together, like the output of the `split` method on a string. You do so by declaring a list. A list can hold "
   ]
  },
  {
   "cell_type": "code",
   "execution_count": 16,
   "metadata": {},
   "outputs": [],
   "source": [
    "my_float_list = [0.0, 1.0, 4.0, 6.0, 0.0]   # List of 5 floats\n",
    "my_mixed_list = [0, \"zero\", 0.0]          # List can hold any type of object \n"
   ]
  },
  {
   "cell_type": "markdown",
   "metadata": {},
   "source": [
    "We can extract elements from list by using an integer to call the index of the element we want. Notice this *indexing* will not work with floats, only integer. Note also that in Python, index start from zero, meanind that e.g. the third element must be called with a `2`. "
   ]
  },
  {
   "cell_type": "code",
   "execution_count": 15,
   "metadata": {},
   "outputs": [
    {
     "data": {
      "text/plain": [
       "0.0"
      ]
     },
     "execution_count": 15,
     "metadata": {},
     "output_type": "execute_result"
    }
   ],
   "source": [
    "my_float_list[2]"
   ]
  },
  {
   "cell_type": "markdown",
   "metadata": {},
   "source": [
    "You can use indexing to reassing the value of a particular element in a list, with a new value of your choice."
   ]
  },
  {
   "cell_type": "code",
   "execution_count": 17,
   "metadata": {},
   "outputs": [
    {
     "data": {
      "text/plain": [
       "[0.0, 1.0, 13.0, 6.0, 0.0]"
      ]
     },
     "execution_count": 17,
     "metadata": {},
     "output_type": "execute_result"
    }
   ],
   "source": [
    "my_float_list[2] = 13.0   # Assign the '2' entry to 13.0.\n",
    "my_float_list"
   ]
  },
  {
   "cell_type": "markdown",
   "metadata": {},
   "source": [
    "A `list` is *mutable*, meaning it allows changing the values like we did above or changing its length with methods like `append` (try it out!). A `tuple` on the other hand, is *not-mutable*, one its created, it cannot be changed (it can still be indexed though). We declare a list with square brackets, and a tuple with round brackets.  "
   ]
  },
  {
   "cell_type": "code",
   "execution_count": 18,
   "metadata": {},
   "outputs": [
    {
     "ename": "TypeError",
     "evalue": "'tuple' object does not support item assignment",
     "output_type": "error",
     "traceback": [
      "\u001b[1;31m---------------------------------------------------------------------------\u001b[0m",
      "\u001b[1;31mTypeError\u001b[0m                                 Traceback (most recent call last)",
      "Cell \u001b[1;32mIn[18], line 2\u001b[0m\n\u001b[0;32m      1\u001b[0m my_tuple \u001b[38;5;241m=\u001b[39m (\u001b[38;5;241m0\u001b[39m, \u001b[38;5;241m1\u001b[39m, \u001b[38;5;241m2\u001b[39m, \u001b[38;5;241m4\u001b[39m, \u001b[38;5;241m4\u001b[39m)\n\u001b[1;32m----> 2\u001b[0m my_tuple[\u001b[38;5;241m3\u001b[39m] \u001b[38;5;241m=\u001b[39m \u001b[38;5;241m3\u001b[39m\n",
      "\u001b[1;31mTypeError\u001b[0m: 'tuple' object does not support item assignment"
     ]
    }
   ],
   "source": [
    "my_tuple = (0, 1, 2, 4, 4)\n",
    "my_tuple[3] = 3     # See how this line fails due to the immutability of tuples"
   ]
  },
  {
   "cell_type": "markdown",
   "metadata": {},
   "source": [
    "Arrays are a special kind of collection of items, and barely resemble a list actually. Some of the noteworthy characteristics or an array is that they are actually a `numpy` object, so the declaration must be `np.array` (is we imported numpy as np). To create an array we can start from a list, a tuple, or nothing at all!. "
   ]
  },
  {
   "cell_type": "code",
   "execution_count": 2,
   "metadata": {},
   "outputs": [
    {
     "data": {
      "text/plain": [
       "array([[7, 8, 9]])"
      ]
     },
     "execution_count": 2,
     "metadata": {},
     "output_type": "execute_result"
    }
   ],
   "source": [
    "import numpy as np\n",
    "\n",
    "my_list = [7,8,9]\n",
    "my_array = np.array([my_list])   # try np.array([])!\n",
    "my_array"
   ]
  },
  {
   "cell_type": "markdown",
   "metadata": {},
   "source": [
    "If you want an array of 10000 zeros, you do not need to type that many zeros. You can create one by calling `np.zeros(10000)`"
   ]
  },
  {
   "cell_type": "code",
   "execution_count": 3,
   "metadata": {},
   "outputs": [
    {
     "data": {
      "text/plain": [
       "array([3.14, 3.14, 3.14, ..., 3.14, 3.14, 3.14])"
      ]
     },
     "execution_count": 3,
     "metadata": {},
     "output_type": "execute_result"
    }
   ],
   "source": [
    "my_big_zero_array = np.zeros(10000)   # try np.ones(100)!\n",
    "\n",
    "# You can use multiplication or summation to get an array of any number. \n",
    "my_big_pi_array1 = np.zeros(10000) + 3.14\n",
    "my_big_pi_array2 = np.ones(10000) * 3.14 \n",
    "my_big_pi_array2"
   ]
  },
  {
   "cell_type": "markdown",
   "metadata": {},
   "source": [
    "You saw from the examples above that you can apply mathematical operations to arrays. This is because arrays are *vectorized*, meaning that the operations are applied to each element of the array. This is very useful, and can save you a lot of time. You can also apply mathematical operations to lists, but the result will be different. Try it out!"
   ]
  },
  {
   "cell_type": "code",
   "execution_count": 30,
   "metadata": {},
   "outputs": [
    {
     "data": {
      "text/plain": [
       "[2, 2, 2, 2, 2, 2, 2, 2, 2]"
      ]
     },
     "execution_count": 30,
     "metadata": {},
     "output_type": "execute_result"
    }
   ],
   "source": [
    "my_list = [2,2,2]\n",
    "my_list * 3     # Do you expect this to be [6,6,6]? Do you see the actual operation that is performed to the list?"
   ]
  },
  {
   "cell_type": "markdown",
   "metadata": {},
   "source": [
    "Numpy also has a lot of convenient functions for creating other specific types of arrays. Two notorious ones are `np.arange` and `np.linspace`. Both create arrays of evenly spaced values, but on the first you set the `step` between elements, and on the second you set the `number` of elements in the array."
   ]
  },
  {
   "cell_type": "code",
   "execution_count": 11,
   "metadata": {},
   "outputs": [
    {
     "name": "stdout",
     "output_type": "stream",
     "text": [
      "my_numpy_arange:  [0.  0.5 1.  1.5 2.  2.5 3.  3.5]\n",
      "my_numpy_linspace:  [0. 1. 2. 3. 4.]\n"
     ]
    }
   ],
   "source": [
    "my_numpy_arange = np.arange(0, 4, 0.5)      # The basic sintax is np.arange(start, stop, step)\n",
    "print(\"my_numpy_arange: \", my_numpy_arange)   # Note that the upper limit is not included\n",
    "\n",
    "my_numpy_linspace = np.linspace(0, 4, 5)        # The basic sintax is np.linspace(start, stop, number_of_elements)\n",
    "print(\"my_numpy_linspace: \", my_numpy_linspace) # Note that the upper limit is included"
   ]
  },
  {
   "cell_type": "code",
   "execution_count": 29,
   "metadata": {},
   "outputs": [
    {
     "data": {
      "text/plain": [
       "array([0.21074733, 0.37700788, 0.79544426, 0.98837509, 0.94762863,\n",
       "       0.15617073, 0.48607378, 0.38265301, 0.44979017, 0.5376509 ])"
      ]
     },
     "execution_count": 29,
     "metadata": {},
     "output_type": "execute_result"
    }
   ],
   "source": [
    "# We can also create arrays of random numbers\n",
    "my_random_array = np.random.random(10)     # 10 random numbers between 0 and 1\n",
    "my_random_array"
   ]
  },
  {
   "cell_type": "markdown",
   "metadata": {},
   "source": [
    "Most relevant, is that array can have more than one dimension. You can create a 2D array by supplying a list of lists, or a tuple of tuples. Arrays of more dimensions are also possible, but their display on screen is not optimal, and we will not really work with them."
   ]
  },
  {
   "cell_type": "code",
   "execution_count": 32,
   "metadata": {},
   "outputs": [],
   "source": [
    "# A 2D array based on a list of lists\n",
    "my_2d_array = np.array([[1,2,3],[4,5,6],[7,8,9]])\n",
    "\n",
    "# What about a 2D array of pi\n",
    "my_pi_array = np.ones((5,5)) * 3.14\n",
    "\n",
    "# or a 2D array of random numbers\n",
    "my_random_array = np.random.random((5,5))\n",
    "\n",
    "# Indexing a 2D array\n",
    "my_2d_array[1,2]    # The entry in the second row and third column (indexing works as [row, column])"
   ]
  },
  {
   "cell_type": "markdown",
   "metadata": {},
   "source": [
    "### Dictionaries (dicts)\n",
    "\n",
    "You could have an 2D array of cartographic coordinates, but how would you know which column is the latitude and which the longitude? In some cases, a better way to store this information is with a *dictionary*. A dictionary is a collection of *key-value* pairs. The key is a string, and the value can be any object, object here could be a float, a list, a tuple, or even another dictionary. A dictionary is declared by (a) curly brackets, and the key-value pairs are separated by a colon, or (b) by using the `dict` function."
   ]
  },
  {
   "cell_type": "code",
   "execution_count": 34,
   "metadata": {},
   "outputs": [
    {
     "data": {
      "text/plain": [
       "[2.0, 3.0, 4.0]"
      ]
     },
     "execution_count": 34,
     "metadata": {},
     "output_type": "execute_result"
    }
   ],
   "source": [
    "# A single cartographic coordinate\n",
    "my_coord_dict = {\"lon\": 110.0, \"lat\": 2.0}   # A dictionary of cartographic coordinates\n",
    "\n",
    "\n",
    "# A list of cartographic coordinates\n",
    "my_coords_dict = {\"lon\": [110.0, 111.0, 112.0], \"lat\": [2.0, 3.0, 4.0]}\n",
    "my_coords_dict[\"lat\"]    # Access the latitude values"
   ]
  },
  {
   "cell_type": "code",
   "execution_count": 37,
   "metadata": {},
   "outputs": [],
   "source": [
    "# The same dictionaty, but created with the dict() function\n",
    "my_coords_dict = dict(lon=[110.0, 111.0, 112.0], lat=[2.0, 3.0, 4.0])"
   ]
  },
  {
   "cell_type": "markdown",
   "metadata": {},
   "source": [
    "`DataFrames` are similar to a dictionary, and are the among the main objects we will use in this course. They are declared by using the `pandas` package, and are very useful for storing *tabular data*. That means all columns have the same amount of elements, and rows are indexed by and integer. "
   ]
  },
  {
   "cell_type": "code",
   "execution_count": 53,
   "metadata": {},
   "outputs": [
    {
     "data": {
      "text/html": [
       "<div>\n",
       "<style scoped>\n",
       "    .dataframe tbody tr th:only-of-type {\n",
       "        vertical-align: middle;\n",
       "    }\n",
       "\n",
       "    .dataframe tbody tr th {\n",
       "        vertical-align: top;\n",
       "    }\n",
       "\n",
       "    .dataframe thead th {\n",
       "        text-align: right;\n",
       "    }\n",
       "</style>\n",
       "<table border=\"1\" class=\"dataframe\">\n",
       "  <thead>\n",
       "    <tr style=\"text-align: right;\">\n",
       "      <th></th>\n",
       "      <th>name</th>\n",
       "      <th>lat</th>\n",
       "      <th>lon</th>\n",
       "    </tr>\n",
       "  </thead>\n",
       "  <tbody>\n",
       "    <tr>\n",
       "      <th>0</th>\n",
       "      <td>Afar</td>\n",
       "      <td>12.82</td>\n",
       "      <td>41.75</td>\n",
       "    </tr>\n",
       "    <tr>\n",
       "      <th>1</th>\n",
       "      <td>Hawaii</td>\n",
       "      <td>19.42</td>\n",
       "      <td>-155.29</td>\n",
       "    </tr>\n",
       "    <tr>\n",
       "      <th>2</th>\n",
       "      <td>Yellowstone</td>\n",
       "      <td>44.42</td>\n",
       "      <td>-110.67</td>\n",
       "    </tr>\n",
       "  </tbody>\n",
       "</table>\n",
       "</div>"
      ],
      "text/plain": [
       "          name    lat     lon\n",
       "0         Afar  12.82   41.75\n",
       "1       Hawaii  19.42 -155.29\n",
       "2  Yellowstone  44.42 -110.67"
      ]
     },
     "execution_count": 53,
     "metadata": {},
     "output_type": "execute_result"
    }
   ],
   "source": [
    "import pandas as pd\n",
    "hotspots_df = pd.DataFrame(dict(name = [\"Afar\", \"Hawaii\", \"Yellowstone\"], lat = [12.82, 19.42, 44.42], lon = [41.75, -155.29, -110.67]))\n",
    "hotspots_df"
   ]
  },
  {
   "cell_type": "code",
   "execution_count": 54,
   "metadata": {},
   "outputs": [
    {
     "data": {
      "text/html": [
       "<div>\n",
       "<style scoped>\n",
       "    .dataframe tbody tr th:only-of-type {\n",
       "        vertical-align: middle;\n",
       "    }\n",
       "\n",
       "    .dataframe tbody tr th {\n",
       "        vertical-align: top;\n",
       "    }\n",
       "\n",
       "    .dataframe thead th {\n",
       "        text-align: right;\n",
       "    }\n",
       "</style>\n",
       "<table border=\"1\" class=\"dataframe\">\n",
       "  <thead>\n",
       "    <tr style=\"text-align: right;\">\n",
       "      <th></th>\n",
       "      <th>name</th>\n",
       "      <th>lat</th>\n",
       "      <th>lon</th>\n",
       "    </tr>\n",
       "  </thead>\n",
       "  <tbody>\n",
       "    <tr>\n",
       "      <th>0</th>\n",
       "      <td>Afar</td>\n",
       "      <td>12.82</td>\n",
       "      <td>41.75</td>\n",
       "    </tr>\n",
       "    <tr>\n",
       "      <th>1</th>\n",
       "      <td>Hawaii</td>\n",
       "      <td>19.42</td>\n",
       "      <td>-155.29</td>\n",
       "    </tr>\n",
       "    <tr>\n",
       "      <th>2</th>\n",
       "      <td>Yellowstone</td>\n",
       "      <td>44.42</td>\n",
       "      <td>-110.67</td>\n",
       "    </tr>\n",
       "    <tr>\n",
       "      <th>3</th>\n",
       "      <td>Kerguelen</td>\n",
       "      <td>-49.58</td>\n",
       "      <td>69.50</td>\n",
       "    </tr>\n",
       "  </tbody>\n",
       "</table>\n",
       "</div>"
      ],
      "text/plain": [
       "          name    lat     lon\n",
       "0         Afar  12.82   41.75\n",
       "1       Hawaii  19.42 -155.29\n",
       "2  Yellowstone  44.42 -110.67\n",
       "3    Kerguelen -49.58   69.50"
      ]
     },
     "execution_count": 54,
     "metadata": {},
     "output_type": "execute_result"
    }
   ],
   "source": [
    "# We can add more rows to the dataframe\n",
    "hotspot_new_row = pd.DataFrame(dict(name = \"Kerguelen\", lat = -49.58, lon = 69.5), index=[len(hotspots_df)])\n",
    "hotspots_df = pd.concat([hotspots_df, hotspot_new_row])\n",
    "hotspots_df"
   ]
  },
  {
   "cell_type": "code",
   "execution_count": 56,
   "metadata": {},
   "outputs": [
    {
     "data": {
      "text/html": [
       "<div>\n",
       "<style scoped>\n",
       "    .dataframe tbody tr th:only-of-type {\n",
       "        vertical-align: middle;\n",
       "    }\n",
       "\n",
       "    .dataframe tbody tr th {\n",
       "        vertical-align: top;\n",
       "    }\n",
       "\n",
       "    .dataframe thead th {\n",
       "        text-align: right;\n",
       "    }\n",
       "</style>\n",
       "<table border=\"1\" class=\"dataframe\">\n",
       "  <thead>\n",
       "    <tr style=\"text-align: right;\">\n",
       "      <th></th>\n",
       "      <th>name</th>\n",
       "      <th>lat</th>\n",
       "      <th>lon</th>\n",
       "      <th>age</th>\n",
       "    </tr>\n",
       "  </thead>\n",
       "  <tbody>\n",
       "    <tr>\n",
       "      <th>0</th>\n",
       "      <td>Afar</td>\n",
       "      <td>12.82</td>\n",
       "      <td>41.75</td>\n",
       "      <td>30.0</td>\n",
       "    </tr>\n",
       "    <tr>\n",
       "      <th>1</th>\n",
       "      <td>Hawaii</td>\n",
       "      <td>19.42</td>\n",
       "      <td>-155.29</td>\n",
       "      <td>0.7</td>\n",
       "    </tr>\n",
       "    <tr>\n",
       "      <th>2</th>\n",
       "      <td>Yellowstone</td>\n",
       "      <td>44.42</td>\n",
       "      <td>-110.67</td>\n",
       "      <td>0.6</td>\n",
       "    </tr>\n",
       "    <tr>\n",
       "      <th>3</th>\n",
       "      <td>Kerguelen</td>\n",
       "      <td>-49.58</td>\n",
       "      <td>69.50</td>\n",
       "      <td>35.0</td>\n",
       "    </tr>\n",
       "  </tbody>\n",
       "</table>\n",
       "</div>"
      ],
      "text/plain": [
       "          name    lat     lon   age\n",
       "0         Afar  12.82   41.75  30.0\n",
       "1       Hawaii  19.42 -155.29   0.7\n",
       "2  Yellowstone  44.42 -110.67   0.6\n",
       "3    Kerguelen -49.58   69.50  35.0"
      ]
     },
     "execution_count": 56,
     "metadata": {},
     "output_type": "execute_result"
    }
   ],
   "source": [
    "# More columns can also be added\n",
    "hotspots_df[\"age\"] = [30, 0.7, 0.6, 35]\n",
    "hotspots_df"
   ]
  },
  {
   "cell_type": "code",
   "execution_count": 60,
   "metadata": {},
   "outputs": [
    {
     "data": {
      "text/plain": [
       "name     Afar\n",
       "lat     12.82\n",
       "lon     41.75\n",
       "age      30.0\n",
       "Name: 0, dtype: object"
      ]
     },
     "execution_count": 60,
     "metadata": {},
     "output_type": "execute_result"
    }
   ],
   "source": [
    "# Indexing by column is done with the column name\n",
    "hotspots_df[\"name\"]\n",
    "\n",
    "# Indexing by row is done with the .loc attribute\n",
    "hotspots_df.loc[0]\n",
    "\n",
    "# Note that the zero index will not necessarily be the first row, but the first row with the index value of zero (leftmost column in the display).\n",
    "# To get the first row, we can use the .iloc attribute\n",
    "hotspots_df.iloc[0]"
   ]
  }
 ],
 "metadata": {
  "kernelspec": {
   "display_name": "py38",
   "language": "python",
   "name": "python3"
  },
  "language_info": {
   "codemirror_mode": {
    "name": "ipython",
    "version": 3
   },
   "file_extension": ".py",
   "mimetype": "text/x-python",
   "name": "python",
   "nbconvert_exporter": "python",
   "pygments_lexer": "ipython3",
   "version": "3.8.16"
  }
 },
 "nbformat": 4,
 "nbformat_minor": 2
}

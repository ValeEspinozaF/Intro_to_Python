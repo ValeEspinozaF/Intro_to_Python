{
 "cells": [
  {
   "cell_type": "markdown",
   "metadata": {},
   "source": [
    "# Introduction to Python\n",
    "\n",
    "This is a Jupyter notebook. This is a smart and easy way to run Python-code interactively in the browser. The term *interactively* means that we at any time can stop the process and see the individual outputs, change variable expressions or plot the intermediate results. This notebook can also be run on ERDA and Google Drive, which means that you do not have to have Python installed on your own computer to run the files, although I recommend having a local installation up and running as your primary place of coding. Python and Jupyter notebooks are available for all platforms (Windows, Mac, Linux), for free. I recommend installing the [Anaconda distribution](https://www.anaconda.com/products/individual) of Python, which comes with a lot of useful packages pre-installed, as well as text editors especially designed for Python (Spider and JupyterLab). \n",
    "\n",
    "This notebook is meant as a very basic introduction to Python, and specifically loading modules/packages/functions from sources both public (available on the internet) and local (available only on your computer). It is not meant as a comprehensive introduction to Python, but rather as a quick guide to get you started.\n",
    "***\n",
    "\n",
    "\n",
    "Valentina Espinoza F. (University of Copenhagen)  \n",
    "10th January 2023 (latest update)"
   ]
  },
  {
   "cell_type": "markdown",
   "metadata": {},
   "source": [
    "## Load public packages\n",
    "\n",
    "To load a package, we use the `import` command."
   ]
  },
  {
   "cell_type": "code",
   "execution_count": 1,
   "metadata": {},
   "outputs": [
    {
     "data": {
      "text/plain": [
       "1.4142135623730951"
      ]
     },
     "execution_count": 1,
     "metadata": {},
     "output_type": "execute_result"
    }
   ],
   "source": [
    "import numpy\n",
    "numpy.sqrt(2)"
   ]
  },
  {
   "cell_type": "markdown",
   "metadata": {},
   "source": [
    "Above we uploaded the numpy package, which is a very useful package for numerical calculations. After importing, we can call functions within the package by tipping `numpy.function_name`. For example, we can used the `numpy.sqrt` function to calculate the square root of a number.\n",
    "\n",
    "We can also give the package a nickname, which is useful if the package name is long or if we want to avoid confusion with other packages. For example, the package `numpy` is often imported as `np` and the package `matplotlib.pyplot` is often imported as `plt`."
   ]
  },
  {
   "cell_type": "code",
   "execution_count": 2,
   "metadata": {},
   "outputs": [
    {
     "data": {
      "text/plain": [
       "1.4142135623730951"
      ]
     },
     "execution_count": 2,
     "metadata": {},
     "output_type": "execute_result"
    }
   ],
   "source": [
    "import numpy as np\n",
    "np.sqrt(2)"
   ]
  },
  {
   "cell_type": "markdown",
   "metadata": {},
   "source": [
    "You see the output is the same. This is useful when package names are long and cumbersome to type over and over. If we only want a handful of functions from a package, we can also import only those functions. For example, if we only want the `sin` and `cos` functions from the `math` package, we can import only those by rearranging the load call with the keyword `from`."
   ]
  },
  {
   "cell_type": "code",
   "execution_count": 3,
   "metadata": {},
   "outputs": [],
   "source": [
    "from math import sin, cos\n",
    "sine_of_two = sin(2)"
   ]
  },
  {
   "cell_type": "markdown",
   "metadata": {},
   "source": [
    "Beware that by doing this, you could end up with two functions with the same name, which could lead to confusion (e.g. both numpy and math packages have a function named `sqrt`).  "
   ]
  },
  {
   "cell_type": "markdown",
   "metadata": {},
   "source": [
    "## Load local packages\n",
    "\n",
    "To load a local package, we will also use the `import` command. The name of the package is the name of the file where the functions are stored. For example, if we have a file named `my_functions.py` with a function named `my_function`, we can load it with the command `from my_functions import my_function`."
   ]
  },
  {
   "cell_type": "markdown",
   "metadata": {},
   "source": [
    "Local packages must be Python files (.py), not Jupyper notebooks (.ipynb). For this course, we will be provided with all the necessary Python files, so you do not need to worry about writting your own. These files will be generally be named in the fashion of `figure_dependencies.py` or `map_dependencies.py`."
   ]
  },
  {
   "cell_type": "markdown",
   "metadata": {},
   "source": [
    "To not crowd our folder with dependencies, all of these files will be stored in a folder called `DEPENDENCIES`. This poses a problem for our import methods, as we need to tell Python where to look for the file. We can solve this by adding the folder name to the import command. For example, if we want to load the function `my_function` from the file `my_functions.py` in the folder `DEPENDENCIES`, we would use the command `from DEPENDENCIES.my_functions import my_function`."
   ]
  },
  {
   "cell_type": "markdown",
   "metadata": {},
   "source": [
    "This is a *relative path* to the file. This means that Python will be given the location of `my_function` relative to where the running notebook is located. This can be enough in many cases, but since our dependencies call other dependencies, it is advised to give Python the *absolute path* to the `DEPENDECIES` folder. This can be done in many ways, but we choose to use the `os` package to retrieve the *absolute path* or our current running notebook's directory (*current_directory_path*), and then use the `sys` package to add the desired path (*path_to_modules*) to the list of places where Python looks for packages (called `PYTHONPATH`)."
   ]
  },
  {
   "cell_type": "code",
   "execution_count": 4,
   "metadata": {},
   "outputs": [
    {
     "ename": "ModuleNotFoundError",
     "evalue": "No module named 'figure_dependencies'",
     "output_type": "error",
     "traceback": [
      "\u001b[1;31m---------------------------------------------------------------------------\u001b[0m",
      "\u001b[1;31mModuleNotFoundError\u001b[0m                       Traceback (most recent call last)",
      "Cell \u001b[1;32mIn[4], line 12\u001b[0m\n\u001b[0;32m      8\u001b[0m \u001b[38;5;28;01mif\u001b[39;00m \u001b[38;5;129;01mnot\u001b[39;00m path_to_modules \u001b[38;5;129;01min\u001b[39;00m sys\u001b[38;5;241m.\u001b[39mpath:     \u001b[38;5;66;03m# if the path to the modules is not already in the PYTHONPATH\u001b[39;00m\n\u001b[0;32m      9\u001b[0m     sys\u001b[38;5;241m.\u001b[39mpath\u001b[38;5;241m.\u001b[39mappend(path_to_modules)    \u001b[38;5;66;03m# we add it to the PYTHONPATH\u001b[39;00m\n\u001b[1;32m---> 12\u001b[0m \u001b[38;5;28;01mfrom\u001b[39;00m \u001b[38;5;21;01mfigure_dependencies\u001b[39;00m \u001b[38;5;28;01mimport\u001b[39;00m create_figure\n",
      "\u001b[1;31mModuleNotFoundError\u001b[0m: No module named 'figure_dependencies'"
     ]
    }
   ],
   "source": [
    "import os\n",
    "import sys\n",
    "\n",
    "# Local dependencies - YOUR COMPUTER\n",
    "current_directory_path = os.getcwd()\n",
    "path_to_modules = os.path.join(current_directory_path, \"DEPENDENCIES\")   # we join the current_notebook_path with the DEPENDENCIES folder\n",
    "\n",
    "if not path_to_modules in sys.path:     # if the path to the modules is not already in the PYTHONPATH\n",
    "    sys.path.append(path_to_modules)    # we add it to the PYTHONPATH\n",
    "    \n",
    " \n",
    "from figure_dependencies import create_figure   # This call will fail since the given path_to_modules is actually wrong"
   ]
  },
  {
   "cell_type": "markdown",
   "metadata": {},
   "source": [
    "This will of course not work, since the DEPENDENCIES folder is not in the same directory as our current notebook. You can try running this piece of code from a file inside the `SCRIPT` folder, where there is a `DEPEDENCIES` folder, and a file called `figure_dependencies.py`. However, you can make the current notebook aware of the `DEPENDENCIES` folder by adding the correct path to the `PYTHONPATH` variable, that is, going up one folder and then down into the `SCRIPTS/DEPENDENCIES` folder. This can be done with the following code:"
   ]
  },
  {
   "cell_type": "code",
   "execution_count": 7,
   "metadata": {},
   "outputs": [],
   "source": [
    "# Local dependencies - YOUR COMPUTER\n",
    "current_directory_path = os.getcwd()\n",
    "path_to_modules = os.path.join(os.path.dirname(current_directory_path), \"SCRIPTS/DEPENDENCIES\")   # We now use the directory of the directory of the current notebook\n",
    "\n",
    "if not path_to_modules in sys.path:   \n",
    "    sys.path.append(path_to_modules)\n",
    "    \n",
    "    \n",
    "from figure_dependencies import create_figure   # See how this call now works!"
   ]
  }
 ],
 "metadata": {
  "kernelspec": {
   "display_name": "py38",
   "language": "python",
   "name": "python3"
  },
  "language_info": {
   "codemirror_mode": {
    "name": "ipython",
    "version": 3
   },
   "file_extension": ".py",
   "mimetype": "text/x-python",
   "name": "python",
   "nbconvert_exporter": "python",
   "pygments_lexer": "ipython3",
   "version": "3.8.16"
  }
 },
 "nbformat": 4,
 "nbformat_minor": 2
}
